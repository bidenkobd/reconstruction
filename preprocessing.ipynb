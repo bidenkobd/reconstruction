{
 "cells": [
  {
   "cell_type": "code",
   "execution_count": 1,
   "id": "351dd742-3834-44d1-9452-df73730e4b57",
   "metadata": {},
   "outputs": [],
   "source": [
    "import os\n",
    "os.environ['TF_CPP_MIN_LOG_LEVEL'] = '2' \n",
    "import tensorflow as tf\n",
    "from tensorflow.keras import backend as K\n",
    "import numpy as np\n",
    "from tqdm import tqdm\n",
    "import pandas as pn"
   ]
  },
  {
   "cell_type": "code",
   "execution_count": 2,
   "id": "3ce39669-6673-4cda-b518-ffc113ec61f7",
   "metadata": {},
   "outputs": [],
   "source": [
    "set_name = 'test' #or 'trainining'; 'validation'\n",
    "\n",
    "lst = os.listdir(f'./raw_data/{set_name}/')\n",
    "\n",
    "tb_lst = []\n",
    "ts_lst = []\n",
    "xh_lst = []\n",
    "delta_lst = []\n",
    "for i in lst:\n",
    "    if i[:3]=='tb_': tb_lst.append(i)\n",
    "    if i[:3]=='ts_': ts_lst.append(i)\n",
    "    if i[:3]=='xh_': xh_lst.append(i)\n",
    "    if i[:6]=='delta_': delta_lst.append(i)"
   ]
  },
  {
   "cell_type": "markdown",
   "id": "8d4a67e0-c3c9-4820-b0f1-5f1bbd2b464e",
   "metadata": {},
   "source": [
    "soritng input files to match random seeds"
   ]
  },
  {
   "cell_type": "code",
   "execution_count": 3,
   "id": "c737ce03-a273-4bef-beab-8a278ae81b07",
   "metadata": {},
   "outputs": [],
   "source": [
    "tb_seeds = []\n",
    "for i in tb_lst:\n",
    "    p=i.find('_T')\n",
    "    tb_seeds.append(i[3:p])\n",
    "\n",
    "ts_seeds = []\n",
    "for i in ts_lst:\n",
    "    p=i.find('_T')\n",
    "    ts_seeds.append(i[3:p])\n",
    "\n",
    "xh_seeds = []\n",
    "for i in xh_lst:\n",
    "    p=i.find('_T')\n",
    "    xh_seeds.append(i[3:p])\n",
    "\n",
    "delta_seeds = []\n",
    "for i in delta_lst:\n",
    "    p=i.find('_T')\n",
    "    delta_seeds.append(i[6:p])"
   ]
  },
  {
   "cell_type": "code",
   "execution_count": 4,
   "id": "a793677d-bcae-4fcb-b436-bab6424b4593",
   "metadata": {},
   "outputs": [],
   "source": [
    "tb_lst=np.array(tb_lst)[np.argsort(tb_seeds)]\n",
    "ts_lst=np.array(ts_lst)[np.argsort(ts_seeds)]\n",
    "xh_lst=np.array(xh_lst)[np.argsort(xh_seeds)]\n",
    "delta_lst=np.array(delta_lst)[np.argsort(delta_seeds)]"
   ]
  },
  {
   "cell_type": "markdown",
   "id": "35db6398-3681-4de3-91a7-a93db229c378",
   "metadata": {},
   "source": [
    "preprocessing of the datasets"
   ]
  },
  {
   "cell_type": "code",
   "execution_count": 5,
   "id": "a96fe4a1-b0d6-4c8e-849e-8ce4e0e7dff4",
   "metadata": {},
   "outputs": [],
   "source": [
    "def noramlize_and_debias(y_data,ymean=None,ystd=None):\n",
    "    if ymean is None:\n",
    "        ymean = np.mean(y_data)\n",
    "    if ystd is None:\n",
    "        ystd  = y_data.reshape(len(y_data),-1).std()\n",
    "\n",
    "    y_data = y_data - ymean\n",
    "    y_data /= ystd\n",
    "    print('mean value is shifted by:',ymean)\n",
    "    print('data is rescaled with stddev:',ystd)\n",
    "\n",
    "    return(y_data)"
   ]
  },
  {
   "cell_type": "code",
   "execution_count": 6,
   "id": "6048d8b6-2062-4d34-a5fc-b16794969a2b",
   "metadata": {},
   "outputs": [],
   "source": [
    "def load_and_cut(set_name,i,cut_lim = 0.995):\n",
    "    j = np.load(f'./raw_data/{set_name}/{i}')\n",
    "    j[j>np.quantile(j,0.995)]=np.quantile(j,0.995)\n",
    "    return j"
   ]
  },
  {
   "cell_type": "code",
   "execution_count": 7,
   "id": "bdf55e05-eb8e-451f-aa43-da2ed306e3eb",
   "metadata": {
    "tags": []
   },
   "outputs": [],
   "source": [
    "tb = np.array([np.load(f'./raw_data/{set_name}/{i}') for i in tb_lst])\n",
    "ts = np.array([load_and_cut(set_name,i) for i in ts_lst])  ### upper value cut is applied as described in section 3.3\n",
    "xh = np.array([np.load(f'./raw_data/{set_name}/{i}') for i in xh_lst])\n",
    "delta = np.array([np.load(f'./raw_data/{set_name}/{i}') for i in delta_lst])"
   ]
  },
  {
   "cell_type": "code",
   "execution_count": 8,
   "id": "c04af7c1-000b-4af2-a864-5a617ac915bb",
   "metadata": {},
   "outputs": [
    {
     "name": "stdout",
     "output_type": "stream",
     "text": [
      "mean: 0.0\n",
      "stddev: 1.0\n"
     ]
    }
   ],
   "source": [
    "if set_name=='test':\n",
    "    tb=noramlize_and_debias(tb,ymean=0.,ystd=1.)[:,:,:,:,np.newaxis] \n",
    "### validation and training set are renormalized and shifted with the values of the training set\n",
    "else:\n",
    "    tb=noramlize_and_debias(tb,ymean=-138.4901,ystd=13.6841755)[:,:,:,:,np.newaxis] "
   ]
  },
  {
   "cell_type": "code",
   "execution_count": 9,
   "id": "a7e92e07-438a-4bb4-94ee-d489062de69a",
   "metadata": {},
   "outputs": [
    {
     "name": "stdout",
     "output_type": "stream",
     "text": [
      "mean: 0.0\n",
      "stddev: 1.0\n"
     ]
    }
   ],
   "source": [
    "if set_name=='test':\n",
    "    ts=noramlize_and_debias(ts,ymean=0.,ystd=1.)[:,:,:,:,np.newaxis] \n",
    "### validation and training set are renormalized and shifted with the values of the training set\n",
    "else:\n",
    "    ts=noramlize_and_debias(ts,ymean=8.6781,ystd=1.4251205)[:,:,:,:,np.newaxis] "
   ]
  },
  {
   "cell_type": "code",
   "execution_count": 10,
   "id": "cec03941-7547-4767-bcc7-a19e2e80ea5f",
   "metadata": {},
   "outputs": [
    {
     "name": "stdout",
     "output_type": "stream",
     "text": [
      "mean: 0.0\n",
      "stddev: 1.0\n"
     ]
    }
   ],
   "source": [
    "if set_name=='test':\n",
    "    xh=noramlize_and_debias(xh,ymean=0.,ystd=1.)[:,:,:,:,np.newaxis] \n",
    "### validation and training set are renormalized and shifted with the values of the training set\n",
    "else:\n",
    "    xh=noramlize_and_debias(xh,ymean=0.99348676,ystd=0.0198706)[:,:,:,:,np.newaxis] "
   ]
  },
  {
   "cell_type": "code",
   "execution_count": 11,
   "id": "d9201ea3-6eb0-429b-bd79-f95374dbf86a",
   "metadata": {},
   "outputs": [
    {
     "name": "stdout",
     "output_type": "stream",
     "text": [
      "mean: 0.0\n",
      "stddev: 1.0\n"
     ]
    }
   ],
   "source": [
    "if set_name=='test':\n",
    "    delta=noramlize_and_debias(delta,ymean=0.,ystd=1.)[:,:,:,:,np.newaxis] \n",
    "### validation and training set are renormalized and shifted with the values of the training set\n",
    "else:\n",
    "    delta=noramlize_and_debias(delta,ymean=4.8816316e-11,ystd=0.10748814)[:,:,:,:,np.newaxis] "
   ]
  },
  {
   "cell_type": "markdown",
   "id": "0ecc5422-d7c3-4a0f-852e-123642677099",
   "metadata": {},
   "source": [
    "writing set in single file for convenient use"
   ]
  },
  {
   "cell_type": "code",
   "execution_count": 12,
   "id": "fa6922e4-3336-49b3-8896-abe3f28fcf84",
   "metadata": {},
   "outputs": [],
   "source": [
    "np.save(f'./processed_data/tb_{set_name}.npy',tb)\n",
    "np.save(f'./processed_data/ts_{set_name}.npy',ts)\n",
    "np.save(f'./processed_data/xh_{set_name}.npy',xh)\n",
    "np.save(f'./processed_data/delta_{set_name}.npy',delta)"
   ]
  }
 ],
 "metadata": {
  "kernelspec": {
   "display_name": "Python 3 (ipykernel)",
   "language": "python",
   "name": "python3"
  },
  "language_info": {
   "codemirror_mode": {
    "name": "ipython",
    "version": 3
   },
   "file_extension": ".py",
   "mimetype": "text/x-python",
   "name": "python",
   "nbconvert_exporter": "python",
   "pygments_lexer": "ipython3",
   "version": "3.10.9"
  }
 },
 "nbformat": 4,
 "nbformat_minor": 5
}
